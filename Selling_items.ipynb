{
 "cells": [
  {
   "cell_type": "markdown",
   "metadata": {},
   "source": [
    "## Get and read the record "
   ]
  },
  {
   "cell_type": "code",
   "execution_count": 6,
   "metadata": {},
   "outputs": [],
   "source": [
    "import json\n",
    "\n",
    "\n",
    "fd = open(\"record.json\",'r')\n",
    "r = fd.read()\n",
    "fd.close()\n",
    "\n",
    "records = json.loads(r)"
   ]
  },
  {
   "cell_type": "markdown",
   "metadata": {},
   "source": [
    "## Read the sales file"
   ]
  },
  {
   "cell_type": "code",
   "execution_count": 2,
   "metadata": {},
   "outputs": [],
   "source": [
    "fd = open(\"sales.json\",'r')\n",
    "s = fd.read()\n",
    "fd.close()\n",
    "\n",
    "sales = json.loads(s)"
   ]
  },
  {
   "cell_type": "markdown",
   "metadata": {},
   "source": [
    "## List of items available and purchase category wise"
   ]
  },
  {
   "cell_type": "code",
   "execution_count": 5,
   "metadata": {},
   "outputs": [
    {
     "name": "stdout",
     "output_type": "stream",
     "text": [
      "Select the option how you would like to see the list of items available\n",
      "1.  food\n",
      "2.  beverages\n",
      "3.  stationery\n",
      "4.  electornics and gadgets\n",
      "5.  cosmetics\n",
      "6.  regularly used items\n",
      "7.  jewellery\n",
      "8.  furniture\n",
      "9.  decors\n",
      "10. clothing and footwear\n",
      "11. all the items\n",
      "1\n",
      "1001 Choco Cake\n",
      "1002 Milk Cake\n",
      "1004 Candy\n",
      "1012 Pringles\n",
      "1018 Instant Parotha\n",
      "1025 Cooking oils\n",
      "1026 Rice bags\n",
      "1030 cookies\n"
     ]
    }
   ],
   "source": [
    "print(\"Select the option how you would like to see the list of items available\")\n",
    "print(\"1.  food\")\n",
    "print(\"2.  beverages\")\n",
    "print(\"3.  stationery\")\n",
    "print(\"4.  electornics and gadgets\")\n",
    "print(\"5.  cosmetics\")\n",
    "print(\"6.  regularly used items\")\n",
    "print(\"7.  jewellery\")\n",
    "print(\"8.  furniture\")\n",
    "print(\"9.  decors\")\n",
    "print(\"10. clothing and footwear\")\n",
    "print(\"11. all the items\")\n",
    "n=int(input(\"\"))\n",
    "for rec in records:\n",
    "    cat=records[rec]['category']\n",
    "    catlow=cat.lower()\n",
    "    if n==1:\n",
    "        if catlow == 'food':\n",
    "            print(rec+\" \" + records[rec]['name'])\n",
    "    elif n==2:\n",
    "        if catlow == 'beverages':\n",
    "            print(rec+\" \" + records[rec]['name'])\n",
    "    elif n==3:\n",
    "        if catlow == 'stationery':\n",
    "            print(rec+\" \" + records[rec]['name'])\n",
    "    elif n==4:\n",
    "        if catlow == 'electronic gadgets':\n",
    "            print(rec+\" \" + records[rec]['name'])\n",
    "    elif n==5:\n",
    "        if catlow == 'cosmetics':\n",
    "            print(rec+\" \" + records[rec]['name'])\n",
    "    elif n==6:\n",
    "        if catlow == 'regular use':\n",
    "            print(rec+\" \" + records[rec]['name'])\n",
    "    elif n==7:\n",
    "        if catlow == 'jewellery':\n",
    "            print(rec+\" \" + records[rec]['name'])\n",
    "    elif n==8:\n",
    "        if catlow == 'furniture':\n",
    "            print(rec+\" \" + records[rec]['name'])\n",
    "    elif n==9:\n",
    "        if catlow == 'decors':\n",
    "            print(rec+\" \" + records[rec]['name'])\n",
    "    elif n==10:\n",
    "        if catlow == 'foot wear' or catlow=='clothing':\n",
    "            print(rec+\" \" + records[rec]['name'])\n",
    "    elif n==11:\n",
    "        print(rec+ \" \"+records[rec]['name'])\n",
    "    else:\n",
    "        print(\"invalid choice\")"
   ]
  },
  {
   "cell_type": "markdown",
   "metadata": {},
   "source": [
    "## Sample code to purchase single item"
   ]
  },
  {
   "cell_type": "code",
   "execution_count": 6,
   "metadata": {},
   "outputs": [
    {
     "name": "stdout",
     "output_type": "stream",
     "text": [
      "Enter the product_Id: 1007\n",
      "Enter the quantity: 1\n",
      "Product:  Mic\n",
      "Price:  1500\n",
      "Billing Amount:  1500\n"
     ]
    }
   ],
   "source": [
    "ui_prod  = str(input(\"Enter the product_Id: \"))\n",
    "\n",
    "if int(ui_prod) in range(1001,1031):\n",
    "    ui_quant = int(input(\"Enter the quantity: \"))\n",
    "        \n",
    "    \n",
    "    print(\"Product: \", records[ui_prod]['name'])\n",
    "    print(\"Price: \", records[ui_prod]['pr'])\n",
    "    disc= records[ui_prod]['Discount']\n",
    "    if(disc != 0):\n",
    "        discamt=((records[ui_prod]['pr']*disc)/100) * ui_quant\n",
    "        print(\"Discount amount: \",discamt)\n",
    "        tot=records[ui_prod]['pr'] - discamt\n",
    "        print(\"Billing amount : \", tot)\n",
    "    else:\n",
    "        tot=records[ui_prod]['pr'] * ui_quant\n",
    "        print(\"Billing Amount: \", tot)\n",
    "\n",
    "    records[ui_prod]['qn'] = records[ui_prod]['qn'] - ui_quant\n",
    "\n",
    "    \n",
    "    \n",
    "\n",
    "n=len(sales)\n",
    "\n",
    "\n",
    "s=str(n+1)\n",
    "sales[s]= {'prod' : ui_prod, 'qn' : ui_quant, 'amount': tot}\n",
    "\n",
    "jss = json.dumps(sales)\n",
    "\n",
    "fd = open(\"sales.json\",'w')\n",
    "fd.write(jss)\n",
    "fd.close()"
   ]
  },
  {
   "cell_type": "markdown",
   "metadata": {},
   "source": [
    "## The details of all the sales done"
   ]
  },
  {
   "cell_type": "code",
   "execution_count": 8,
   "metadata": {},
   "outputs": [
    {
     "data": {
      "text/plain": [
       "{'1': {'prod': '1020', 'qn': 1, 'amount': 450},\n",
       " '2': {'prod': [], 'qn': [], 'amount': 0},\n",
       " '3': {'prod': [], 'qn': [], 'amount': 0},\n",
       " '4': {'prod': '1003', 'qn': 2, 'amount': 81.6},\n",
       " '5': {'prod': '1002', 'qn': 2, 'amount': 720.0},\n",
       " '6': {'prod': '1003', 'qn': 2, 'amount': 81.6},\n",
       " '7': {'prod': '1002', 'qn': 2, 'amount': 720.0},\n",
       " '8': {'prod': [1001, 1005], 'qn': [2, 2], 'amount': 200},\n",
       " '9': {'prod': [1001, 1005], 'qn': [2, 2], 'amount': 240},\n",
       " '10': {'prod': [1001, 1002], 'qn': [2, 5], 'amount': 200},\n",
       " '11': {'prod': [1001, 1002], 'qn': [2, 5], 'amount': 4200},\n",
       " '12': {'prod': [1001, 1005], 'qn': [2, 2], 'amount': 200},\n",
       " '13': {'prod': [1001, 1005], 'qn': [2, 2], 'amount': 240},\n",
       " '14': {'prod': [1005, 1004], 'qn': [2, 2], 'amount': 40},\n",
       " '15': {'prod': [1005, 1004], 'qn': [2, 2], 'amount': 50},\n",
       " '16': {'prod': [1001], 'qn': [2], 'amount': 200},\n",
       " '17': {'prod': [1001], 'qn': [1], 'amount': 100},\n",
       " '18': {'prod': [1002], 'qn': [1], 'amount': 800},\n",
       " '19': {'prod': [1001], 'qn': [1], 'amount': 100},\n",
       " '20': {'prod': [1003, 1030], 'qn': [2, 5], 'amount': 170},\n",
       " '21': {'prod': [1003, 1030], 'qn': [2, 5], 'amount': 570},\n",
       " '22': {'prod': [1005, 1003], 'qn': [2, 2], 'amount': 40},\n",
       " '23': {'prod': [1005, 1003], 'qn': [2, 2], 'amount': 210},\n",
       " '24': {'prod': [1001, 1004], 'qn': [2, 2], 'amount': 200},\n",
       " '25': {'prod': [1001, 1004], 'qn': [2, 2], 'amount': 210},\n",
       " '26': {'prod': [1001], 'qn': [3], 'amount': 300},\n",
       " '27': {'prod': [1003], 'qn': [2], 'amount': 170},\n",
       " '28': {'prod': [1002], 'qn': [2], 'amount': 1600},\n",
       " '29': {'prod': [1003], 'qn': [2], 'amount': 170},\n",
       " '30': {'prod': [1003], 'qn': [3], 'amount': 300},\n",
       " '31': {'prod': [1001, 1003], 'qn': [2, 2], 'amount': 200},\n",
       " '32': {'prod': [1001, 1003], 'qn': [2, 2], 'amount': 392.0},\n",
       " '33': {'prod': [1002, 1004, 1026], 'qn': [5, 3, 5], 'amount': 3000.0},\n",
       " '34': {'prod': [1002, 1004, 1026], 'qn': [5, 3, 5], 'amount': 3015.0},\n",
       " '35': {'prod': [1002, 1004, 1026], 'qn': [5, 3, 5], 'amount': 3690.0},\n",
       " '36': {'prod': '1001', 'qn': 2, 'amount': 200},\n",
       " '37': {'prod': '1', 'qn': 2, 'amount': 200},\n",
       " '38': {'prod': '1007', 'qn': 1, 'amount': 1500}}"
      ]
     },
     "execution_count": 8,
     "metadata": {},
     "output_type": "execute_result"
    }
   ],
   "source": [
    "sales"
   ]
  },
  {
   "cell_type": "markdown",
   "metadata": {},
   "source": [
    "## Code to purchase multiple items , generate bill ,  upload them in record.json and sales.json"
   ]
  },
  {
   "cell_type": "code",
   "execution_count": 35,
   "metadata": {},
   "outputs": [
    {
     "name": "stdout",
     "output_type": "stream",
     "text": [
      "enter the number of items you want to purchase1\n",
      "Enter the product_Id: 1020\n",
      "Enter the quantity: 1\n",
      "---------------------------------------------------\n",
      "1  .  Bracelets --- 1 items\n",
      "***************************************************\n",
      "Billing Amount 450\n",
      "***************************************************\n",
      "how would you do payment\n",
      " 1. Liduid Cash\n",
      " 2. online transaction\n",
      "enter your choice 1\n",
      "---------------------------------------------------\n",
      "thank you!! visit once again\n"
     ]
    }
   ],
   "source": [
    "m= int(input (\"enter the number of items you want to purchase\"))\n",
    "tot=0\n",
    "ui_prod=[]\n",
    "ui_quant=[]\n",
    "for i in range(m):\n",
    "    prod  = int(input(\"Enter the product_Id: \"))\n",
    "    #print(prod)\n",
    "    \n",
    "    if prod in range(1001,1031):\n",
    "        quant = int(input(\"Enter the quantity: \"))\n",
    "        prods=str(prod)\n",
    "        \n",
    "        u=int(records[prods]['qn'])\n",
    "        \n",
    "        if quant <= u:\n",
    "            ui_prod.append(prod)\n",
    "            ui_quant.append(quant)\n",
    "        else:\n",
    "            print(\"that much quantity is not available\")\n",
    "    else:\n",
    "        print(\" invalid product id\")\n",
    "\n",
    "        \n",
    "for k in range(len(ui_prod)):\n",
    "    q=ui_quant[k]\n",
    "    s=str(ui_prod[k])\n",
    "    \n",
    "    for rec in records:\n",
    "        \n",
    "        if s==rec:\n",
    "            price=records[rec]['pr']\n",
    "            disc=records[rec]['Discount']\n",
    "            \n",
    "            if(disc != 0):\n",
    "                discamt=((price*disc)/100)*q\n",
    "                print(\"----------------------------------------------------\")\n",
    "                print(\"Discount amount on each\" ,records[rec]['name'],\":\",discamt)\n",
    "                p_tot=price - discamt\n",
    "                tot +=p_tot * q\n",
    "            else:\n",
    "                tot +=price * q\n",
    "            \n",
    "            records[rec]['qn']= records[rec]['qn']-q\n",
    "            n=len(sales)\n",
    "            s=str(n+1)\n",
    "            \n",
    "            \n",
    "            sales[s]= {'prod' : ui_prod, 'qn' : ui_quant, 'amount': tot}\n",
    "\n",
    "            jss = json.dumps(sales)\n",
    "\n",
    "            fd = open(\"sales.json\",'w')\n",
    "            fd.write(jss)\n",
    "            fd.close()\n",
    "            \n",
    "print(\"---------------------------------------------------\")\n",
    "for i in range(0,len(ui_prod)):\n",
    "    ui=str(ui_prod[i])\n",
    "    \n",
    "    print(i+1,\" . \",records[ui]['name'], \"---\", ui_quant[i],\"items\" )\n",
    "    \n",
    "        \n",
    "print(\"***************************************************\")            \n",
    "print(\"Billing Amount\",tot)\n",
    "print(\"***************************************************\")\n",
    "js = json.dumps(records)\n",
    "\n",
    "fd = open(\"record.json\",'w')\n",
    "fd.write(js)\n",
    "fd.close()    \n",
    "\n",
    "print(\"how would you do payment\")\n",
    "print(\" 1. Liduid Cash\")\n",
    "print(\" 2. online transaction\")\n",
    "p=int(input(\"enter your choice \"))\n",
    "if p==1:\n",
    "    print(\"---------------------------------------------------\")\n",
    "    print(\"thank you!! visit once again\")\n",
    "if p==2:\n",
    "    card=int(input(\"enter your card number :\"))\n",
    "    pin=int(input(\"enter your pin :\"))\n",
    "    print(\"---------------------------------------------------\")\n",
    "    print(\"Transaction Successfull from card \" + str(card) + \" of amount \" + str(tot))\n",
    "    print(\"Thank you ,\")\n",
    "    print(\"Visit once again.\")"
   ]
  },
  {
   "cell_type": "markdown",
   "metadata": {},
   "source": [
    "## Thankyou for this opportunity!"
   ]
  },
  {
   "cell_type": "code",
   "execution_count": null,
   "metadata": {},
   "outputs": [],
   "source": []
  }
 ],
 "metadata": {
  "kernelspec": {
   "display_name": "Python 3",
   "language": "python",
   "name": "python3"
  },
  "language_info": {
   "codemirror_mode": {
    "name": "ipython",
    "version": 3
   },
   "file_extension": ".py",
   "mimetype": "text/x-python",
   "name": "python",
   "nbconvert_exporter": "python",
   "pygments_lexer": "ipython3",
   "version": "3.7.6"
  }
 },
 "nbformat": 4,
 "nbformat_minor": 4
}
